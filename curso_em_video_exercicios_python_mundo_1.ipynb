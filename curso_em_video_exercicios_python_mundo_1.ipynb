{
 "cells": [
  {
   "cell_type": "markdown",
   "id": "f189100b",
   "metadata": {},
   "source": [
    "# Curso em Vídeo - Exercícios de Python 3 - Mundo 1"
   ]
  },
  {
   "cell_type": "markdown",
   "id": "04b2003f",
   "metadata": {},
   "source": [
    "## Aulas 1, 2, 3 e 4"
   ]
  },
  {
   "cell_type": "markdown",
   "id": "896490ab",
   "metadata": {},
   "source": [
    "### Exercício 001: Crie um programa que escreva \"Olá, mundo!\" na tela."
   ]
  },
  {
   "cell_type": "code",
   "execution_count": 1,
   "id": "ceea8ff4",
   "metadata": {},
   "outputs": [
    {
     "name": "stdout",
     "output_type": "stream",
     "text": [
      "Ola Mundo\n"
     ]
    }
   ],
   "source": [
    "print(\"Ola Mundo\")"
   ]
  },
  {
   "cell_type": "markdown",
   "id": "d16ea2de",
   "metadata": {},
   "source": [
    "### Exercício 002: Faça um programa que leia o nome de uma pessoa e mostre uma mensagem de boas-vindas."
   ]
  },
  {
   "cell_type": "code",
   "execution_count": 12,
   "id": "df2eb364",
   "metadata": {},
   "outputs": [
    {
     "name": "stdout",
     "output_type": "stream",
     "text": [
      "Ola Matheus seja bem vindo(a)\n",
      "Ola Matheus seja bem vindo(a)\n"
     ]
    }
   ],
   "source": [
    "nome = input(\"Insira seu nome: \")\n",
    "print(\"Ola \" + nome + \" \" +\"seja bem vindo(a)\")\n",
    "print(f\"Ola {nome} seja bem vindo(a)\")"
   ]
  },
  {
   "cell_type": "markdown",
   "id": "56476aca",
   "metadata": {},
   "source": [
    "## Aula 6"
   ]
  },
  {
   "cell_type": "markdown",
   "id": "0e7a0dde",
   "metadata": {},
   "source": [
    "### Exercício 003: Crie um programa que leia dois números e mostre a soma entre eles."
   ]
  },
  {
   "cell_type": "code",
   "execution_count": 15,
   "id": "e4932038",
   "metadata": {},
   "outputs": [
    {
     "name": "stdout",
     "output_type": "stream",
     "text": [
      "A soma dos dos numeros é: 20\n"
     ]
    }
   ],
   "source": [
    "num1 = int(input(\"Insira um numero: \"))\n",
    "num2 = int(input(\"Insira outro numero:\" ))\n",
    "sum = num1 + num2\n",
    "print(f\"A soma dos dos numeros é: {sum}\")"
   ]
  },
  {
   "cell_type": "markdown",
   "id": "6019e7e9",
   "metadata": {},
   "source": [
    "### Exercício 004: Faça um programa que leia algo pelo teclado e mostre na tela o seu tipo primitivo e todas as informações possíveis sobre ele."
   ]
  },
  {
   "cell_type": "code",
   "execution_count": 29,
   "id": "6cc1f079",
   "metadata": {},
   "outputs": [
    {
     "name": "stdout",
     "output_type": "stream",
     "text": [
      "MATHEUS\n",
      "True\n",
      "Voce digitou em maiuscula\n"
     ]
    }
   ],
   "source": [
    "#escrever = input(\"\")\n",
    "#isupper ... retorna boleano para True todas as letras maiusculas\n",
    "\n",
    "escreva=input(\"Escreva seu nome: \")\n",
    "print(escreva)\n",
    "print(escreva.isupper())\n",
    "#cria um condicional se for todas maisuculas exibe a mensagem de confimação ou o caso contrario \n",
    "if  escreva.isupper() == True:\n",
    "    print(\"Voce digitou em maiuscula\")\n",
    "else:\n",
    "    print(\"Voce digitou em miniscula\")"
   ]
  },
  {
   "cell_type": "markdown",
   "id": "61506edb",
   "metadata": {},
   "source": [
    "escreva = input(\"escreva seu nome: \")\n",
    "escreva = escreva.isupper()\n",
    "print(escreva)\n",
    "print(escreva.isupper())"
   ]
  },
  {
   "cell_type": "code",
   "execution_count": null,
   "id": "719c986a",
   "metadata": {},
   "outputs": [
    {
     "name": "stdout",
     "output_type": "stream",
     "text": [
      "MATHEUS\n",
      "False\n",
      "Voce digitou em maiuscula\n"
     ]
    }
   ],
   "source": [
    "escreva = input(\"escreava seu nome: \")\n",
    "print(escreva)\n",
    "print(escreva.islower())\n",
    "\n",
    "if escreva.isupper == False:\n",
    "    print(\"Voce digitou em minuscula\")\n",
    "else:\n",
    "    print(\"Voce digitou em maiuscula\")"
   ]
  },
  {
   "cell_type": "markdown",
   "id": "08f154b3",
   "metadata": {},
   "source": [
    "## Aula 7"
   ]
  },
  {
   "cell_type": "markdown",
   "id": "9a17758f",
   "metadata": {},
   "source": [
    "### Exercício 005: Faça um programa que leia um número Inteiro e mostre na tela o seu sucessor e seu antecessor."
   ]
  },
  {
   "cell_type": "code",
   "execution_count": 35,
   "id": "bacd7161",
   "metadata": {},
   "outputs": [
    {
     "name": "stdout",
     "output_type": "stream",
     "text": [
      "sucessor: 11 antecessor: 9\n"
     ]
    }
   ],
   "source": [
    "num = int(input(\"insira um numero: \"))\n",
    "print(f\"sucessor: {num+1 } antecessor: {num-1}\")"
   ]
  },
  {
   "cell_type": "markdown",
   "id": "f1ba73c4",
   "metadata": {},
   "source": [
    "### Exercício 006: Crie um algoritmo que leia um número e mostre o seu dobro, triplo e raiz quadrada."
   ]
  },
  {
   "cell_type": "code",
   "execution_count": 37,
   "id": "9ecaeb06",
   "metadata": {},
   "outputs": [
    {
     "name": "stdout",
     "output_type": "stream",
     "text": [
      "20 30 100\n"
     ]
    }
   ],
   "source": [
    "num=int(input(\"escreva um numero: \"))\n",
    "print(num*2, num*3, num **2)"
   ]
  },
  {
   "cell_type": "markdown",
   "id": "9ba9b4bf",
   "metadata": {},
   "source": [
    "### Exercício 007: Desenvolva um programa que leia as duas notas de um aluno, calcule e mostre a sua média."
   ]
  },
  {
   "cell_type": "code",
   "execution_count": null,
   "id": "45059f95",
   "metadata": {},
   "outputs": [
    {
     "name": "stdout",
     "output_type": "stream",
     "text": [
      "15.0\n"
     ]
    }
   ],
   "source": [
    "nota1=int(input(\"insira a nota: \"))\n",
    "nota2=int(input(\"insira a nota 2: \"))\n",
    "media = (nota1+nota2)/2\n",
    "print(media)"
   ]
  },
  {
   "cell_type": "markdown",
   "id": "24607d9d",
   "metadata": {},
   "source": [
    "### Exercício 008: Escreva um programa que leia um valor em metros e o exiba convertido em centímetros e milímetros."
   ]
  },
  {
   "cell_type": "code",
   "execution_count": 43,
   "id": "40603fa0",
   "metadata": {},
   "outputs": [
    {
     "name": "stdout",
     "output_type": "stream",
     "text": [
      "O valor em cm eh 0.1, O valor em milimitros eh 0.01\n"
     ]
    }
   ],
   "source": [
    "valor=int(input(\"insira o valor em metros: \"))\n",
    "valor_em_cm=valor/100\n",
    "valor_em_mil=valor/1000\n",
    "print(f\"O valor em cm eh {valor_em_cm}, O valor em milimitros eh {valor_em_mil}\")"
   ]
  },
  {
   "cell_type": "markdown",
   "id": "762ebb0c",
   "metadata": {},
   "source": [
    "### Exercício 009: Faça um programa que leia um número Inteiro qualquer e mostre na tela a sua tabuada."
   ]
  },
  {
   "cell_type": "code",
   "execution_count": 77,
   "id": "3d633cde",
   "metadata": {},
   "outputs": [
    {
     "name": "stdout",
     "output_type": "stream",
     "text": [
      "7 14 21 28 35 42 49 56 63 70\n"
     ]
    }
   ],
   "source": [
    "num=int(input(\"digite um numero: \"))\n",
    "print(num*1, num*2, num*3, num*4, num*5,num*6, num*7, num*8, num*9, num*10)"
   ]
  },
  {
   "cell_type": "markdown",
   "id": "d218c2fd",
   "metadata": {},
   "source": [
    "### Exercício 010: Crie um programa que leia quanto dinheiro uma pessoa tem na carteira e mostre quantos dólares ela pode comprar."
   ]
  },
  {
   "cell_type": "code",
   "execution_count": 50,
   "id": "59848f5c",
   "metadata": {},
   "outputs": [
    {
     "name": "stdout",
     "output_type": "stream",
     "text": [
      "Voce tem: 10 reais que equivale a 60 dolares\n"
     ]
    }
   ],
   "source": [
    "valor = int(input(\"insira o valor: \"))\n",
    "valor_dolar = valor*6\n",
    "print(f\"Voce tem: {valor} reais que equivale a {valor_dolar} dolares\")"
   ]
  },
  {
   "cell_type": "markdown",
   "id": "9dac6cae",
   "metadata": {},
   "source": [
    "### Exercício 011: Faça um programa que leia a largura e a altura de uma parede em metros, calcule a sua área e a quantidade de tinta necessária para pintá-la, sabendo que cada litro de tinta pinta uma área de 2 metros quadrados."
   ]
  },
  {
   "cell_type": "code",
   "execution_count": 57,
   "id": "67fe8fd2",
   "metadata": {},
   "outputs": [
    {
     "name": "stdout",
     "output_type": "stream",
     "text": [
      "A largura eh de: 10.0, a altura eh de:  10.0, a area eh de: 100.0, e voce precisara de 50.0 latas de tinta\n"
     ]
    }
   ],
   "source": [
    "largura = float(input(\"largura: \"))\n",
    "altura = float(input(\"altura: \"))\n",
    "area = largura* altura\n",
    "tinta = area /2\n",
    "print(f\"A largura eh de: {largura}, a altura eh de:  {altura}, a area eh de: {area}, e voce precisara de {tinta} latas de tinta\")\n"
   ]
  },
  {
   "cell_type": "markdown",
   "id": "64f27bb9",
   "metadata": {},
   "source": [
    "### Exercício 012: Faça um algoritmo que leia o preço de um produto e mostre seu novo preço, com 5% de desconto."
   ]
  },
  {
   "cell_type": "code",
   "execution_count": 67,
   "id": "66dd23cf",
   "metadata": {},
   "outputs": [
    {
     "name": "stdout",
     "output_type": "stream",
     "text": [
      "47.5\n"
     ]
    }
   ],
   "source": [
    "preco=int(input(\"Qual o preco do produto: \"))\n",
    "novo_preco = preco -preco*0.05\n",
    "print(novo_preco)"
   ]
  },
  {
   "cell_type": "markdown",
   "id": "b223e899",
   "metadata": {},
   "source": [
    "### Exercício 013: Faça um algoritmo que leia o salário de um funcionário e mostre seu novo salário, com 15% de aumento."
   ]
  },
  {
   "cell_type": "code",
   "execution_count": null,
   "id": "5e0f474e",
   "metadata": {},
   "outputs": [
    {
     "name": "stdout",
     "output_type": "stream",
     "text": [
      "57.5\n"
     ]
    }
   ],
   "source": [
    "salario= int(input(\"Digite o salario: \"))\n",
    "novo_salario = salario +(salario*0.15)\n",
    "print(novo_salario)"
   ]
  },
  {
   "cell_type": "markdown",
   "id": "8eacdc97",
   "metadata": {},
   "source": [
    "### Exercício 014: Escreva um programa que converta uma temperatura digitando em graus Celsius e converta para graus Fahrenheit."
   ]
  },
  {
   "cell_type": "code",
   "execution_count": 71,
   "id": "ea6df811",
   "metadata": {},
   "outputs": [
    {
     "name": "stdout",
     "output_type": "stream",
     "text": [
      "O valor em Fahrenheit eh de: 54.0 \n"
     ]
    }
   ],
   "source": [
    "temp=float(input(\"Insira uma temperatura em Celsius: \"))\n",
    "far= (temp*9/5)\n",
    "print(f\"O valor em Fahrenheit eh de: {far} \")"
   ]
  },
  {
   "cell_type": "markdown",
   "id": "346496b6",
   "metadata": {},
   "source": [
    "### Exercício 015: Escreva um programa que pergunte a quantidade de Km percorridos por um carro alugado e a quantidade de dias pelos quais ele foi alugado. Calcule o preço a pagar, sabendo que o carro custa R$60 por dia e R$0,15 por Km rodado."
   ]
  },
  {
   "cell_type": "code",
   "execution_count": 76,
   "id": "31b2c70e",
   "metadata": {},
   "outputs": [
    {
     "name": "stdout",
     "output_type": "stream",
     "text": [
      "Valor total a pagar: 301.5 \n"
     ]
    }
   ],
   "source": [
    "km= int(input(\"Quantos KM percorridos: \"))\n",
    "dias = int(input(\"Quantos dias alugado: \"))\n",
    "preco=60*dias+(0.15*km)\n",
    "print(f\"Valor total a pagar: {preco} \")"
   ]
  },
  {
   "cell_type": "markdown",
   "id": "51bc2889",
   "metadata": {},
   "source": [
    "## Aula 8"
   ]
  },
  {
   "cell_type": "markdown",
   "id": "a99f6fea",
   "metadata": {},
   "source": [
    "### Exercício 016: Crie um programa que leia um número Real qualquer pelo teclado e mostre na tela a sua porção Inteira."
   ]
  },
  {
   "cell_type": "code",
   "execution_count": null,
   "id": "62fd4306",
   "metadata": {},
   "outputs": [],
   "source": [
    "#round(variavel,0)"
   ]
  },
  {
   "cell_type": "markdown",
   "id": "4fca0b78",
   "metadata": {},
   "source": [
    "### Exercício 017: Faça um programa que leia o comprimento do cateto oposto e do cateto adjacente de um triângulo retângulo. Calcule e mostre o comprimento da hipotenusa."
   ]
  },
  {
   "cell_type": "code",
   "execution_count": null,
   "id": "54d4eaac",
   "metadata": {},
   "outputs": [],
   "source": []
  },
  {
   "cell_type": "markdown",
   "id": "d63f6379",
   "metadata": {},
   "source": [
    "### Exercício 018: Faça um programa que leia um ângulo qualquer e mostre na tela o valor do seno, cosseno e tangente desse ângulo."
   ]
  },
  {
   "cell_type": "code",
   "execution_count": null,
   "id": "d1b7b775",
   "metadata": {},
   "outputs": [],
   "source": []
  },
  {
   "cell_type": "markdown",
   "id": "550099a2",
   "metadata": {},
   "source": [
    "### Exercício 019: Um professor quer sortear um dos seus quatro alunos para apagar o quadro. Faça um programa que ajude ele, lendo o nome dos alunos e escrevendo na tela o nome do escolhido."
   ]
  },
  {
   "cell_type": "code",
   "execution_count": null,
   "id": "079e6638",
   "metadata": {},
   "outputs": [],
   "source": []
  },
  {
   "cell_type": "markdown",
   "id": "b846b761",
   "metadata": {},
   "source": [
    "### Exercício 020: O mesmo professor do desafio 019 quer sortear a ordem de apresentação de trabalhos dos alunos. Faça um programa que leia o nome dos quatro alunos e mostre a ordem sorteada."
   ]
  },
  {
   "cell_type": "code",
   "execution_count": null,
   "id": "19f34e10",
   "metadata": {},
   "outputs": [],
   "source": []
  },
  {
   "cell_type": "markdown",
   "id": "eb865915",
   "metadata": {},
   "source": [
    "### Exercício 021: Faça um programa em que abra e reproduza o áudio de um arquivo MP3."
   ]
  },
  {
   "cell_type": "code",
   "execution_count": null,
   "id": "4054d083",
   "metadata": {},
   "outputs": [],
   "source": []
  },
  {
   "cell_type": "markdown",
   "id": "00d51518",
   "metadata": {},
   "source": [
    "## Aula 9"
   ]
  },
  {
   "cell_type": "markdown",
   "id": "50c67d64",
   "metadata": {},
   "source": [
    "### Exercício 022: Crie um programa que leia o nome completo de uma pessoa e mostre: "
   ]
  },
  {
   "cell_type": "code",
   "execution_count": null,
   "id": "255692de",
   "metadata": {},
   "outputs": [],
   "source": []
  },
  {
   "cell_type": "markdown",
   "id": "b33b5568",
   "metadata": {},
   "source": [
    "### Exercício 023: Faça um programa que leia um número de 0 a 9999 e mostre na tela cada um dos dígitos separados."
   ]
  },
  {
   "cell_type": "code",
   "execution_count": null,
   "id": "77e482cf",
   "metadata": {},
   "outputs": [],
   "source": []
  },
  {
   "cell_type": "markdown",
   "id": "8c8cc150",
   "metadata": {},
   "source": [
    "### Exercício 024: Crie um programa que leia o nome de uma cidade diga se ela começa ou não com o nome \"SANTO\"."
   ]
  },
  {
   "cell_type": "code",
   "execution_count": null,
   "id": "6c8853e6",
   "metadata": {},
   "outputs": [],
   "source": []
  },
  {
   "cell_type": "markdown",
   "id": "03e2935c",
   "metadata": {},
   "source": [
    "### Exercício 025: Crie um programa que leia o nome de uma pessoa e diga se ela tem \"SILVA\" no nome."
   ]
  },
  {
   "cell_type": "code",
   "execution_count": null,
   "id": "d068d853",
   "metadata": {},
   "outputs": [],
   "source": []
  },
  {
   "cell_type": "markdown",
   "id": "4003f3ba",
   "metadata": {},
   "source": [
    "### Exercício 026: Faça um programa que leia uma frase pelo teclado e mostre quantas vezes aparece a letra \"A\", em que posição ela aparece a primeira vez e em que posição ela aparece a última vez."
   ]
  },
  {
   "cell_type": "code",
   "execution_count": null,
   "id": "fe57c293",
   "metadata": {},
   "outputs": [],
   "source": []
  },
  {
   "cell_type": "markdown",
   "id": "d4439b53",
   "metadata": {},
   "source": [
    "### Exercício 027: Faça um programa que leia o nome completo de uma pessoa, mostrando em seguida o primeiro e o último nome separadamente."
   ]
  },
  {
   "cell_type": "code",
   "execution_count": null,
   "id": "f53bc96e",
   "metadata": {},
   "outputs": [],
   "source": []
  },
  {
   "cell_type": "markdown",
   "id": "6f585391",
   "metadata": {},
   "source": [
    "## Aula 10"
   ]
  },
  {
   "cell_type": "markdown",
   "id": "be3b633e",
   "metadata": {},
   "source": [
    "### Exercício 028: Escreva um programa que faça o computador \"pensar\" em um número inteiro entre 0 e 5 e peça para o usuário tentar descobrir qual foi o número escolhido pelo computador. O programa deverá escrever na tela se o usuário venceu ou perdeu."
   ]
  },
  {
   "cell_type": "code",
   "execution_count": null,
   "id": "0713be97",
   "metadata": {},
   "outputs": [],
   "source": []
  },
  {
   "cell_type": "markdown",
   "id": "89d4d5f6",
   "metadata": {},
   "source": [
    "### Exercício 029: Escreva um programa que leia a velocidade de um carro. Se ele ultrapassar 80Km/h, mostre uma mensagem dizendo que ele foi multado. A multa vai custar R$7,00 por cada Km acima do limite."
   ]
  },
  {
   "cell_type": "code",
   "execution_count": null,
   "id": "26bc4883",
   "metadata": {},
   "outputs": [],
   "source": []
  },
  {
   "cell_type": "markdown",
   "id": "f2977e2e",
   "metadata": {},
   "source": [
    "### Exercício 030: Crie um programa que leia um número inteiro e mostre na tela se ele é PAR ou ÍMPAR."
   ]
  },
  {
   "cell_type": "code",
   "execution_count": null,
   "id": "53fce06f",
   "metadata": {},
   "outputs": [],
   "source": []
  },
  {
   "cell_type": "markdown",
   "id": "d400647f",
   "metadata": {},
   "source": [
    "### Exercício 031: Desenvolva um programa que pergunte a distância de uma viagem em Km. Calcule o preço da passagem, cobrando R$0,50 por Km para viagens de até 200Km e R$0,45 parta viagens mais longas."
   ]
  },
  {
   "cell_type": "code",
   "execution_count": null,
   "id": "e3083d09",
   "metadata": {},
   "outputs": [],
   "source": []
  },
  {
   "cell_type": "markdown",
   "id": "5f1128f4",
   "metadata": {},
   "source": [
    "### Exercício 032: Faça um programa que leia um ano qualquer e mostre se ele é bissexto."
   ]
  },
  {
   "cell_type": "code",
   "execution_count": null,
   "id": "68415640",
   "metadata": {},
   "outputs": [],
   "source": []
  },
  {
   "cell_type": "markdown",
   "id": "45d523bf",
   "metadata": {},
   "source": [
    "### Exercício 033: Faça um programa que leia três números e mostre qual é o maior e qual é o menor."
   ]
  },
  {
   "cell_type": "code",
   "execution_count": null,
   "id": "07c860af",
   "metadata": {},
   "outputs": [],
   "source": []
  },
  {
   "cell_type": "markdown",
   "id": "9162bade",
   "metadata": {},
   "source": [
    "### Exercício 034: Escreva um programa que pergunte o salário de um funcionário e calcule o valor do seu aumento. Para salários superiores a R$1250,00, calcule um aumento de 10%. Para os inferiores ou iguais, o aumento é de 15%."
   ]
  },
  {
   "cell_type": "code",
   "execution_count": null,
   "id": "b949d8bd",
   "metadata": {},
   "outputs": [],
   "source": []
  },
  {
   "cell_type": "markdown",
   "id": "2ae78d0e",
   "metadata": {},
   "source": [
    "### Exercício 035: Desenvolva um programa que leia o comprimento de três retas e diga ao usuário se elas podem ou não formar um triângulo."
   ]
  },
  {
   "cell_type": "code",
   "execution_count": null,
   "id": "57966209",
   "metadata": {},
   "outputs": [],
   "source": []
  }
 ],
 "metadata": {
  "kernelspec": {
   "display_name": "Python 3",
   "language": "python",
   "name": "python3"
  },
  "language_info": {
   "codemirror_mode": {
    "name": "ipython",
    "version": 3
   },
   "file_extension": ".py",
   "mimetype": "text/x-python",
   "name": "python",
   "nbconvert_exporter": "python",
   "pygments_lexer": "ipython3",
   "version": "3.13.0"
  }
 },
 "nbformat": 4,
 "nbformat_minor": 5
}
