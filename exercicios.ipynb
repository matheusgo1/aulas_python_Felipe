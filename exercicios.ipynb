{
 "cells": [
  {
   "cell_type": "markdown",
   "metadata": {},
   "source": [
    "Exercicio 1 - Calculadora IMC:"
   ]
  },
  {
   "cell_type": "code",
   "execution_count": null,
   "metadata": {},
   "outputs": [
    {
     "name": "stdout",
     "output_type": "stream",
     "text": [
      "Seu IMC eh: 23.46020761245675\n"
     ]
    }
   ],
   "source": [
    "inserir_peso=float(input(\"Digite o seu peso: \"))\n",
    "inserir_altura=float(input(\"Digite sua altura: \"))\n",
    "imc= inserir_peso/(inserir_altura**2)\n",
    "print(f\"Seu IMC é: {imc}\")"
   ]
  },
  {
   "cell_type": "markdown",
   "metadata": {},
   "source": [
    "Exercício 2 - Calculadora de Área e Perímetro de um Retângulo:\n"
   ]
  },
  {
   "cell_type": "code",
   "execution_count": 23,
   "metadata": {},
   "outputs": [
    {
     "name": "stdout",
     "output_type": "stream",
     "text": [
      "A altura é de: 4.0 \n",
      "A largura é de: 5.0 \n",
      "A area é de: 20.0 \n",
      "O perimetro é de: 18.0 \n",
      "A altura é de: 4.0. A largura é de: 5.0. A area é de: 20.0. O perimetro é de: 18.0\n",
      "O retangulo nao é quadrado\n",
      "A altura nao é igual a largura\n"
     ]
    }
   ],
   "source": [
    "largura=float(input(\"Insira a largura do retangulo: \"))\n",
    "altura=float(input(\"Insira a altura do retangulo: \"))\n",
    "area=altura*largura\n",
    "perimetro= 2*(altura+largura)\n",
    "print(f\"A altura é de: {altura} \\nA largura é de: {largura} \\nA area é de: {area} \\nO perimetro é de: {perimetro} \")\n",
    "print(\"A altura é de: \" +str(altura) + \". \" + \"A largura é de: \" + str(largura)+ \". \" + \"A area é de: \" + str(area) + \". \"+ \"O perimetro é de: \" + str(perimetro))\n",
    "\n",
    "if largura == altura:\n",
    "    print(f\"O retangulo é quadrado\")\n",
    "else:\n",
    "    print(f\"O retangulo nao é quadrado\")\n",
    "\n",
    "altura_igual_largura =largura==altura\n",
    "if altura_igual_largura:\n",
    "    print(\"A Altura é igual a largura\")\n",
    "else:\n",
    "    print(\"A altura nao é igual a largura\")"
   ]
  },
  {
   "cell_type": "code",
   "execution_count": null,
   "metadata": {},
   "outputs": [],
   "source": []
  }
 ],
 "metadata": {
  "kernelspec": {
   "display_name": "Python 3",
   "language": "python",
   "name": "python3"
  },
  "language_info": {
   "codemirror_mode": {
    "name": "ipython",
    "version": 3
   },
   "file_extension": ".py",
   "mimetype": "text/x-python",
   "name": "python",
   "nbconvert_exporter": "python",
   "pygments_lexer": "ipython3",
   "version": "3.13.0"
  }
 },
 "nbformat": 4,
 "nbformat_minor": 2
}
