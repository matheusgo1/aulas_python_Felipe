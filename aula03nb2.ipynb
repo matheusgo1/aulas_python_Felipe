{
 "cells": [
  {
   "cell_type": "code",
   "execution_count": 1,
   "metadata": {},
   "outputs": [
    {
     "name": "stdout",
     "output_type": "stream",
     "text": [
      "Olá Mundo\n"
     ]
    }
   ],
   "source": [
    "print(f\"Olá Mundo\")"
   ]
  },
  {
   "cell_type": "code",
   "execution_count": 3,
   "metadata": {},
   "outputs": [
    {
     "name": "stdout",
     "output_type": "stream",
     "text": [
      "Matheus Alexandre\n"
     ]
    }
   ],
   "source": [
    "print(f\"Matheus Alexandre\")"
   ]
  },
  {
   "cell_type": "code",
   "execution_count": 5,
   "metadata": {},
   "outputs": [
    {
     "name": "stdout",
     "output_type": "stream",
     "text": [
      "Matheus\n"
     ]
    }
   ],
   "source": [
    "nome=input(\"Digite um nome: \")\n",
    "print(f\"{nome}\")"
   ]
  },
  {
   "cell_type": "code",
   "execution_count": 9,
   "metadata": {},
   "outputs": [
    {
     "name": "stdout",
     "output_type": "stream",
     "text": [
      "Nome:  Matheus Sobrenome: Alexandre\n"
     ]
    }
   ],
   "source": [
    "nome4=input(\"Digite um nome\")\n",
    "sobrenome=input('Digite um sobrenome: ')\n",
    "print(f\"Nome:  {nome4} Sobrenome: {sobrenome}\")"
   ]
  },
  {
   "cell_type": "code",
   "execution_count": 10,
   "metadata": {},
   "outputs": [
    {
     "name": "stdout",
     "output_type": "stream",
     "text": [
      "Nome: Matheus Idade: 33\n"
     ]
    }
   ],
   "source": [
    "nome5=input(\"Digite um nome\")\n",
    "idade=input(\"Digite uma idade\")\n",
    "print(f\"Nome: {nome5} Idade: {idade}\")"
   ]
  },
  {
   "cell_type": "code",
   "execution_count": 11,
   "metadata": {},
   "outputs": [
    {
     "name": "stdout",
     "output_type": "stream",
     "text": [
      "Nome: Matheus Idade: 33 Peso: 67 Numero de telefone: 2344545666\n"
     ]
    }
   ],
   "source": [
    "nome=input(\"Digite se nome completo: \")\n",
    "idade=input(\"Digite sua idade: \")\n",
    "peso=input(\"Digite seu peso: \")\n",
    "numero_de_telefone=input(\"Digite seu numero de telefone: \")\n",
    "print(f\"Nome: {nome} Idade: {idade} Peso: {peso} Numero de telefone: {numero_de_telefone}\")"
   ]
  },
  {
   "cell_type": "code",
   "execution_count": 14,
   "metadata": {},
   "outputs": [
    {
     "name": "stdout",
     "output_type": "stream",
     "text": [
      "Primeiro nome: Matheus \n",
      "Sobrenome: Alexandre \n",
      "Peso: 67 \n",
      "Numero de telefone: 2345456 \n",
      "Cor favorita: azul\n"
     ]
    }
   ],
   "source": [
    "nome=input(\"Digite seu nome: \")\n",
    "sobrenome=input('Digite seu sobrenome: ')\n",
    "idade=input(\"Digite sua idade: \")\n",
    "peso=input(\"Digite seu peso: \")\n",
    "telefone=input(\"Digite seu telefone: \")\n",
    "cor=input(\"Digite sua cor favorita: \")\n",
    "print(f\"Primeiro nome: {nome} \\nSobrenome: {sobrenome} \\nPeso: {peso} \\nNumero de telefone: {telefone} \\nCor favorita: {cor}\")"
   ]
  },
  {
   "cell_type": "code",
   "execution_count": 16,
   "metadata": {},
   "outputs": [
    {
     "name": "stdout",
     "output_type": "stream",
     "text": [
      "Peso: 67 \n",
      "Nome: Matheus\n"
     ]
    }
   ],
   "source": [
    "peso=input('Digite seu peso: ')\n",
    "nome=input(\"Digite seu nome\")\n",
    "print(f\"Peso: {peso} \\nNome: {nome}\")"
   ]
  },
  {
   "cell_type": "code",
   "execution_count": 20,
   "metadata": {},
   "outputs": [
    {
     "name": "stdout",
     "output_type": "stream",
     "text": [
      "Sum: 3.0\n",
      "Total: 3.0\n"
     ]
    }
   ],
   "source": [
    "first=input(\"First: \")\n",
    "second=input(\"Second: \")\n",
    "sum=float(first)+float(second)\n",
    "print(f\"Sum: {sum}\")\n",
    "print(f\"Total: {sum}\")"
   ]
  },
  {
   "cell_type": "code",
   "execution_count": 21,
   "metadata": {},
   "outputs": [
    {
     "name": "stdout",
     "output_type": "stream",
     "text": [
      "Print: 3.0\n"
     ]
    }
   ],
   "source": [
    "first=float(input(\"First: \"))\n",
    "second=float(input(\"Second: \"))\n",
    "sum=first+second\n",
    "print(f\"Print: {sum}\")"
   ]
  },
  {
   "cell_type": "code",
   "execution_count": 25,
   "metadata": {},
   "outputs": [
    {
     "name": "stdout",
     "output_type": "stream",
     "text": [
      "Print: 34\n"
     ]
    }
   ],
   "source": [
    "year=int(input('Year: '))\n",
    "birth_year=int(input(\"Birth Year: \"))\n",
    "age=year-birth_year\n",
    "print(f\"Print: {age}\")"
   ]
  },
  {
   "cell_type": "code",
   "execution_count": 24,
   "metadata": {},
   "outputs": [
    {
     "name": "stdout",
     "output_type": "stream",
     "text": [
      "{34}\n"
     ]
    }
   ],
   "source": [
    "birth_year=input(\"Type your Birth Year: \")\n",
    "age=2025-int(birth_year)\n",
    "print({age})"
   ]
  },
  {
   "cell_type": "code",
   "execution_count": 28,
   "metadata": {},
   "outputs": [
    {
     "name": "stdout",
     "output_type": "stream",
     "text": [
      "Age: 34\n"
     ]
    }
   ],
   "source": [
    "birth_year=input(\"Digite seu ano de nascimento: \")\n",
    "age=2025-int(birth_year)\n",
    "print(f\"Age: {age}\")"
   ]
  },
  {
   "cell_type": "code",
   "execution_count": 29,
   "metadata": {},
   "outputs": [
    {
     "name": "stdout",
     "output_type": "stream",
     "text": [
      "Sum: 10.0\n"
     ]
    }
   ],
   "source": [
    "first=float(input(\"Digite um numero \"))\n",
    "second=float(input(\"Digite um numero: \"))\n",
    "sum=first+second\n",
    "print(f\"Sum: {sum}\")"
   ]
  },
  {
   "cell_type": "code",
   "execution_count": 32,
   "metadata": {},
   "outputs": [
    {
     "name": "stdout",
     "output_type": "stream",
     "text": [
      "{'PYTHON'}\n"
     ]
    }
   ],
   "source": [
    "name=\"Python\"\n",
    "print({name.upper()})"
   ]
  },
  {
   "cell_type": "code",
   "execution_count": 33,
   "metadata": {},
   "outputs": [
    {
     "name": "stdout",
     "output_type": "stream",
     "text": [
      "chuta\n"
     ]
    }
   ],
   "source": [
    "name=\"chuva\"\n",
    "print(name.replace(\"v\", \"t\"))"
   ]
  },
  {
   "cell_type": "code",
   "execution_count": 40,
   "metadata": {},
   "outputs": [
    {
     "name": "stdout",
     "output_type": "stream",
     "text": [
      "True\n",
      "False\n",
      "False\n"
     ]
    }
   ],
   "source": [
    "#BOOLEANO TRUE OR FALSE\n",
    "\n",
    "verifica= nome4==nome5\n",
    "verifica2=nome4==sobrenome\n",
    "\n",
    "print(verifica)\n",
    "print(verifica2)\n",
    "\n",
    "verifica3= age<sum\n",
    "print(verifica3)"
   ]
  },
  {
   "cell_type": "code",
   "execution_count": null,
   "metadata": {},
   "outputs": [],
   "source": []
  }
 ],
 "metadata": {
  "kernelspec": {
   "display_name": "Python 3",
   "language": "python",
   "name": "python3"
  },
  "language_info": {
   "codemirror_mode": {
    "name": "ipython",
    "version": 3
   },
   "file_extension": ".py",
   "mimetype": "text/x-python",
   "name": "python",
   "nbconvert_exporter": "python",
   "pygments_lexer": "ipython3",
   "version": "3.13.0"
  }
 },
 "nbformat": 4,
 "nbformat_minor": 2
}
